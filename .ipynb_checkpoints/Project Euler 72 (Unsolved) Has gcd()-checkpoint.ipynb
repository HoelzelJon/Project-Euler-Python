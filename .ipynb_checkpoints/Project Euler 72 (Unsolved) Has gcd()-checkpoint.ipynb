{
 "cells": [
  {
   "cell_type": "code",
   "execution_count": 8,
   "metadata": {},
   "outputs": [
    {
     "name": "stdout",
     "output_type": "stream",
     "text": [
      "304191\n"
     ]
    }
   ],
   "source": [
    "def gcd(a, b):\n",
    "    while b != 0:\n",
    "        t = b\n",
    "        b = a % b\n",
    "        a = t\n",
    "    return a\n",
    "\n",
    "count = 0\n",
    "for denominator in range(2, 1001):\n",
    "    isSimplified = [True for x in range(denominator)]\n",
    "    for numerator in range(1, denominator):\n",
    "        if(isSimplified[numerator]):\n",
    "            if (gcd(numerator, denominator) == 1):\n",
    "                count += 1\n",
    "            else: #mark all multipliers of numerator as not simplified\n",
    "                for x in range(numerator, denominator, numerator):\n",
    "                    isSimplified[x] = False\n",
    "print(count)"
   ]
  },
  {
   "cell_type": "code",
   "execution_count": null,
   "metadata": {
    "collapsed": true
   },
   "outputs": [],
   "source": []
  }
 ],
 "metadata": {
  "kernelspec": {
   "display_name": "Python 3",
   "language": "python",
   "name": "python3"
  },
  "language_info": {
   "codemirror_mode": {
    "name": "ipython",
    "version": 3
   },
   "file_extension": ".py",
   "mimetype": "text/x-python",
   "name": "python",
   "nbconvert_exporter": "python",
   "pygments_lexer": "ipython3",
   "version": "3.6.1"
  }
 },
 "nbformat": 4,
 "nbformat_minor": 2
}

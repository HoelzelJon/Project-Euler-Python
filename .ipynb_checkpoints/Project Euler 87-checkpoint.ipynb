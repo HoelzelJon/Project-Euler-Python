{
 "cells": [
  {
   "cell_type": "code",
   "execution_count": 12,
   "metadata": {},
   "outputs": [
    {
     "name": "stdout",
     "output_type": "stream",
     "text": [
      "1139575\n"
     ]
    }
   ],
   "source": [
    "import sympy.ntheory.generate as gen\n",
    "\n",
    "count = 0\n",
    "sum = 0\n",
    "dict = {}\n",
    "\n",
    "for a in gen.primerange(0, 84):\n",
    "    sum = a ** 4\n",
    "    b = 2\n",
    "    sum += b ** 3\n",
    "    while (sum < 50000000):\n",
    "        c = 2\n",
    "        sum += c ** 2\n",
    "        while (sum < 50000000):\n",
    "            if sum not in dict:\n",
    "                count += 1\n",
    "                dict[sum] = True\n",
    "            sum -= c ** 2\n",
    "            c = gen.nextprime(c)\n",
    "            sum += c ** 2\n",
    "        sum -= c ** 2\n",
    "        sum -= b ** 3\n",
    "        b = gen.nextprime(b)\n",
    "        sum += b ** 3\n",
    "\n",
    "print(count)"
   ]
  },
  {
   "cell_type": "code",
   "execution_count": null,
   "metadata": {
    "collapsed": true
   },
   "outputs": [],
   "source": []
  }
 ],
 "metadata": {
  "kernelspec": {
   "display_name": "Python 3",
   "language": "python",
   "name": "python3"
  },
  "language_info": {
   "codemirror_mode": {
    "name": "ipython",
    "version": 3
   },
   "file_extension": ".py",
   "mimetype": "text/x-python",
   "name": "python",
   "nbconvert_exporter": "python",
   "pygments_lexer": "ipython3",
   "version": "3.6.1"
  }
 },
 "nbformat": 4,
 "nbformat_minor": 2
}

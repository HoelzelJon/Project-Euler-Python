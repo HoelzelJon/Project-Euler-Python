{
 "cells": [
  {
   "cell_type": "code",
   "execution_count": 25,
   "metadata": {
    "scrolled": false
   },
   "outputs": [
    {
     "name": "stdout",
     "output_type": "stream",
     "text": [
      "1818\n",
      "1000457\n"
     ]
    }
   ],
   "source": [
    "# from https://stackoverflow.com/questions/2489435/how-could-i-check-if-a-number-is-a-perfect-square\n",
    "def is_square(apositiveint):\n",
    "    x = apositiveint // 2\n",
    "    seen = set([x])\n",
    "    while x * x != apositiveint:\n",
    "        x = (x + (apositiveint // x)) // 2\n",
    "        if x in seen:\n",
    "            return False\n",
    "        seen.add(x)\n",
    "    return True\n",
    "\n",
    "def hasIntPath(aPlusB, c):\n",
    "    d2 = (aPlusB**2) + (c**2)\n",
    "    return is_square(d2)\n",
    "\n",
    "M = 0\n",
    "count = 0\n",
    "\n",
    "while (count < 1000000):\n",
    "    M += 1\n",
    "    #c = M\n",
    "    for aPlusB in range(2, (2*M) + 1):\n",
    "        if (hasIntPath(aPlusB, M)):\n",
    "            count += int(aPlusB / 2)\n",
    "            #account for bad cases where b>c\n",
    "            if (aPlusB > M + 1):\n",
    "                count -= (aPlusB - M) - 1\n",
    "\n",
    "\n",
    "print(M)\n",
    "print(count)"
   ]
  },
  {
   "cell_type": "code",
   "execution_count": null,
   "metadata": {
    "collapsed": true
   },
   "outputs": [],
   "source": []
  }
 ],
 "metadata": {
  "kernelspec": {
   "display_name": "Python 3",
   "language": "python",
   "name": "python3"
  },
  "language_info": {
   "codemirror_mode": {
    "name": "ipython",
    "version": 3
   },
   "file_extension": ".py",
   "mimetype": "text/x-python",
   "name": "python",
   "nbconvert_exporter": "python",
   "pygments_lexer": "ipython3",
   "version": "3.6.1"
  }
 },
 "nbformat": 4,
 "nbformat_minor": 2
}

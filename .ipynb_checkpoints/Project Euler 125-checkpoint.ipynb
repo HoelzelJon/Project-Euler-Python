{
 "cells": [
  {
   "cell_type": "code",
   "execution_count": 23,
   "metadata": {},
   "outputs": [
    {
     "name": "stdout",
     "output_type": "stream",
     "text": [
      "2906969179\n",
      "166\n"
     ]
    }
   ],
   "source": [
    "def isPalindrome(n):\n",
    "    string = str(n)\n",
    "    reverse = ''.join([string[len(string) - x - 1] for x in range(len(string))])\n",
    "    return (string == reverse)\n",
    "\n",
    "sumOfPalindromes = 0\n",
    "palendromeCount = 0\n",
    "palindromes = {}\n",
    "\n",
    "for firstSquare in range(1, 10000):\n",
    "    sumOfSquares = firstSquare ** 2\n",
    "    numSquares = 1\n",
    "    done = False\n",
    "    while (not done):\n",
    "        if (numSquares > 1 and isPalindrome(sumOfSquares) and sumOfSquares not in palindromes):\n",
    "            sumOfPalindromes += sumOfSquares\n",
    "            palendromeCount += 1\n",
    "            palindromes[sumOfSquares] = True\n",
    "        sumOfSquares += (firstSquare + numSquares) ** 2\n",
    "        if (sumOfSquares >= 100000000):\n",
    "            done = True\n",
    "        numSquares += 1\n",
    "\n",
    "print(sumOfPalindromes)\n",
    "print(palendromeCount)"
   ]
  },
  {
   "cell_type": "code",
   "execution_count": null,
   "metadata": {
    "scrolled": true
   },
   "outputs": [],
   "source": []
  },
  {
   "cell_type": "code",
   "execution_count": null,
   "metadata": {
    "collapsed": true
   },
   "outputs": [],
   "source": []
  }
 ],
 "metadata": {
  "kernelspec": {
   "display_name": "Python 3",
   "language": "python",
   "name": "python3"
  },
  "language_info": {
   "codemirror_mode": {
    "name": "ipython",
    "version": 3
   },
   "file_extension": ".py",
   "mimetype": "text/x-python",
   "name": "python",
   "nbconvert_exporter": "python",
   "pygments_lexer": "ipython3",
   "version": "3.6.1"
  }
 },
 "nbformat": 4,
 "nbformat_minor": 2
}

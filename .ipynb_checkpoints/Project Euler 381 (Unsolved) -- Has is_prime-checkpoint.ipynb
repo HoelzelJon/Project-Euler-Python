{
 "cells": [
  {
   "cell_type": "code",
   "execution_count": 6,
   "metadata": {},
   "outputs": [
    {
     "name": "stdout",
     "output_type": "stream",
     "text": [
      "2882332\n"
     ]
    }
   ],
   "source": [
    "def is_prime(n):\n",
    "    if (n % 2 == 0 or n % 3 == 0):\n",
    "        return False\n",
    "    i = 5\n",
    "    while (i*i <= n):\n",
    "        if (n % i == 0 or n % (i+2) == 0):\n",
    "            return False\n",
    "        i += 6\n",
    "    return True\n",
    "\n",
    "#works, but is not fast enough\n",
    "finalSum = 0\n",
    "for p in range(5, 10000, 2):\n",
    "    if (is_prime(p)):\n",
    "        sum = 0\n",
    "        for k in range(1, 6):\n",
    "            fact = p - k\n",
    "            product = 1\n",
    "            for n in range(1, fact):\n",
    "                product *= fact\n",
    "                fact -= 1\n",
    "                product %= p\n",
    "            sum += product\n",
    "            sum %= p\n",
    "        finalSum += sum\n",
    "print(finalSum)"
   ]
  },
  {
   "cell_type": "code",
   "execution_count": null,
   "metadata": {
    "collapsed": true
   },
   "outputs": [],
   "source": []
  }
 ],
 "metadata": {
  "kernelspec": {
   "display_name": "Python 3",
   "language": "python",
   "name": "python3"
  },
  "language_info": {
   "codemirror_mode": {
    "name": "ipython",
    "version": 3
   },
   "file_extension": ".py",
   "mimetype": "text/x-python",
   "name": "python",
   "nbconvert_exporter": "python",
   "pygments_lexer": "ipython3",
   "version": "3.6.1"
  }
 },
 "nbformat": 4,
 "nbformat_minor": 2
}

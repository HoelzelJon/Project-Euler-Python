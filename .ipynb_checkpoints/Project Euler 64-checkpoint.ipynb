{
 "cells": [
  {
   "cell_type": "code",
   "execution_count": 9,
   "metadata": {},
   "outputs": [
    {
     "name": "stdout",
     "output_type": "stream",
     "text": [
      "1322\n"
     ]
    }
   ],
   "source": [
    "import numpy as np\n",
    "import math\n",
    "\n",
    "def isSquare(x):\n",
    "    return (int(round(math.sqrt(x))))**2 == x\n",
    "\n",
    "def dictHasValue(dict, k1, k2, k3):\n",
    "    if k1 not in dict:\n",
    "        return False\n",
    "    if k2 not in dict[k1]:\n",
    "        return False\n",
    "    if k3 not in dict[k1][k2]:\n",
    "        return False\n",
    "    return True\n",
    "\n",
    "def addToDict(dict, k1, k2, k3, value):\n",
    "    if k1 not in dict:\n",
    "        dict[k1] = {}\n",
    "    if k2 not in dict[k1]:\n",
    "        dict[k1][k2] = {}\n",
    "    dict[k1][k2][k3] = value\n",
    "\n",
    "def getPeriod(x):\n",
    "    dict = {}\n",
    "    step = 0\n",
    "    a = int(math.sqrt(x))\n",
    "    b = a\n",
    "    c = 1\n",
    "    \n",
    "    while (not dictHasValue(dict, a, b, c)):\n",
    "        addToDict(dict, a, b, c, step)\n",
    "        step += 1\n",
    "        c = (x - (b ** 2)) // c #c = denom\n",
    "        a = int((math.sqrt(x) + b) / c)\n",
    "        b = (a*c) - b\n",
    "    \n",
    "    return step - dict[a][b][c]\n",
    "\n",
    "count = 0\n",
    "\n",
    "for x in range(2, 10001):\n",
    "    if (not isSquare(x)):\n",
    "        if (getPeriod(x) % 2 == 1):\n",
    "            count += 1\n",
    "print(count)"
   ]
  },
  {
   "cell_type": "code",
   "execution_count": null,
   "metadata": {
    "collapsed": true
   },
   "outputs": [],
   "source": []
  }
 ],
 "metadata": {
  "kernelspec": {
   "display_name": "Python 3",
   "language": "python",
   "name": "python3"
  },
  "language_info": {
   "codemirror_mode": {
    "name": "ipython",
    "version": 3
   },
   "file_extension": ".py",
   "mimetype": "text/x-python",
   "name": "python",
   "nbconvert_exporter": "python",
   "pygments_lexer": "ipython3",
   "version": "3.6.1"
  }
 },
 "nbformat": 4,
 "nbformat_minor": 2
}

{
 "cells": [
  {
   "cell_type": "code",
   "execution_count": 30,
   "metadata": {},
   "outputs": [
    {
     "name": "stdout",
     "output_type": "stream",
     "text": [
      "[127035954683, 352045367981, 373559126408, 569310543872, 589323567104]\n"
     ]
    }
   ],
   "source": [
    "import numpy as np\n",
    "\n",
    "done = False\n",
    "number = \"nothing yet\"\n",
    "base = 1\n",
    "dictionary = {}\n",
    "\n",
    "while not done:\n",
    "    cube = base ** 3\n",
    "    sortedCube = ''.join(sorted([c for c in str(cube)]));\n",
    "    if (sortedCube in dictionary):\n",
    "        dictionary[sortedCube].append(cube)\n",
    "    else:\n",
    "        dictionary[sortedCube] = [cube]\n",
    "        \n",
    "    if (len(dictionary[sortedCube]) == 5):\n",
    "        done = True\n",
    "        number = sortedCube\n",
    "    \n",
    "    base += 1\n",
    "    \n",
    "print(dictionary[sortedCube])"
   ]
  },
  {
   "cell_type": "code",
   "execution_count": null,
   "metadata": {
    "collapsed": true
   },
   "outputs": [],
   "source": []
  },
  {
   "cell_type": "code",
   "execution_count": null,
   "metadata": {
    "collapsed": true
   },
   "outputs": [],
   "source": []
  }
 ],
 "metadata": {
  "kernelspec": {
   "display_name": "Python 3",
   "language": "python",
   "name": "python3"
  },
  "language_info": {
   "codemirror_mode": {
    "name": "ipython",
    "version": 3
   },
   "file_extension": ".py",
   "mimetype": "text/x-python",
   "name": "python",
   "nbconvert_exporter": "python",
   "pygments_lexer": "ipython3",
   "version": "3.6.1"
  }
 },
 "nbformat": 4,
 "nbformat_minor": 2
}

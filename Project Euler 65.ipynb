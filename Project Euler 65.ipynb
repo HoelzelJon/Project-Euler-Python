{
 "cells": [
  {
   "cell_type": "code",
   "execution_count": 7,
   "metadata": {},
   "outputs": [
    {
     "name": "stdout",
     "output_type": "stream",
     "text": [
      "272\n"
     ]
    }
   ],
   "source": [
    "def gcd(a, b):\n",
    "    while b != 0:\n",
    "        t = b\n",
    "        b = a % b\n",
    "        a = t\n",
    "    return a\n",
    "\n",
    "numerator = 1\n",
    "denominator = 1\n",
    "for i in range(99, 1, -1):\n",
    "    plus = 1\n",
    "    if (i % 3 == 0):\n",
    "        plus = (i // 3) * 2\n",
    "    \n",
    "    temp = numerator + (plus * denominator)\n",
    "    divisor = gcd(temp, denominator)\n",
    "    numerator = denominator // divisor\n",
    "    denominator = temp // divisor\n",
    "\n",
    "numerator += (2 * denominator)\n",
    "\n",
    "sumOfDigits = 0\n",
    "while (numerator > 1):\n",
    "    sumOfDigits += numerator % 10\n",
    "    numerator = numerator // 10\n",
    "    \n",
    "print(sumOfDigits)"
   ]
  },
  {
   "cell_type": "code",
   "execution_count": null,
   "metadata": {
    "collapsed": true
   },
   "outputs": [],
   "source": []
  }
 ],
 "metadata": {
  "kernelspec": {
   "display_name": "Python 3",
   "language": "python",
   "name": "python3"
  },
  "language_info": {
   "codemirror_mode": {
    "name": "ipython",
    "version": 3
   },
   "file_extension": ".py",
   "mimetype": "text/x-python",
   "name": "python",
   "nbconvert_exporter": "python",
   "pygments_lexer": "ipython3",
   "version": "3.6.1"
  }
 },
 "nbformat": 4,
 "nbformat_minor": 2
}

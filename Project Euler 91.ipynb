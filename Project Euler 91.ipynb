{
 "cells": [
  {
   "cell_type": "code",
   "execution_count": 17,
   "metadata": {},
   "outputs": [
    {
     "name": "stdout",
     "output_type": "stream",
     "text": [
      "14234\n"
     ]
    }
   ],
   "source": [
    "import numpy as np\n",
    "def isTriangle(p1, p2, p3):\n",
    "    return np.cross(p1-p2, p2-p3) != 0\n",
    "\n",
    "def isRightAngle(p1, p2, p3):\n",
    "    return np.dot(p1 - p2, p3 - p2) == 0\n",
    "\n",
    "def isRightTriangle(p1, p2, p3):\n",
    "    return isRightAngle(p1, p2, p3) or isRightAngle(p2, p3, p1) or isRightAngle(p3, p1, p2)\n",
    "\n",
    "count = 0\n",
    "max = 50\n",
    "\n",
    "o = np.array([0, 0])\n",
    "p1 = np.array([0, 0])\n",
    "p2 = np.array([0, 0])\n",
    "for p1[0] in range(0, max + 1):\n",
    "    for p1[1] in range(0, max + 1):\n",
    "        for p2[0] in range(0, max + 1):\n",
    "            for p2[1] in range(0, max + 1):\n",
    "                if (isRightTriangle(o, p1, p2) and isTriangle(o, p1, p2)):\n",
    "                    count += 1\n",
    "print(count // 2)"
   ]
  },
  {
   "cell_type": "code",
   "execution_count": null,
   "metadata": {
    "collapsed": true
   },
   "outputs": [],
   "source": []
  }
 ],
 "metadata": {
  "kernelspec": {
   "display_name": "Python 3",
   "language": "python",
   "name": "python3"
  },
  "language_info": {
   "codemirror_mode": {
    "name": "ipython",
    "version": 3
   },
   "file_extension": ".py",
   "mimetype": "text/x-python",
   "name": "python",
   "nbconvert_exporter": "python",
   "pygments_lexer": "ipython3",
   "version": "3.6.1"
  }
 },
 "nbformat": 4,
 "nbformat_minor": 2
}

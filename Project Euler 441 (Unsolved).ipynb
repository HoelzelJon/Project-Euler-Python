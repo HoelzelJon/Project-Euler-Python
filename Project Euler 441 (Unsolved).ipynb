{
 "cells": [
  {
   "cell_type": "code",
   "execution_count": 4,
   "metadata": {},
   "outputs": [
    {
     "name": "stdout",
     "output_type": "stream",
     "text": [
      "58.2962380621663\n"
     ]
    }
   ],
   "source": [
    "def gcd(a, b):\n",
    "    while b != 0:\n",
    "        t = b\n",
    "        b = a % b\n",
    "        a = t\n",
    "    return a\n",
    "\n",
    "def R(M):\n",
    "    sum = 0.0\n",
    "    for q in range((M+2) // 2 , M+1):\n",
    "        for p in range(max(1, M-q), q):\n",
    "            if (gcd(q, p) == 1):\n",
    "                sum += 1.0 / (p * q)\n",
    "    return sum\n",
    "\n",
    "def S(N):\n",
    "    sum = 1.5\n",
    "    for i in range(4, N+1):\n",
    "        sum += R(i)\n",
    "    return sum\n",
    "\n",
    "print(S(100))"
   ]
  },
  {
   "cell_type": "code",
   "execution_count": null,
   "metadata": {
    "collapsed": true
   },
   "outputs": [],
   "source": []
  }
 ],
 "metadata": {
  "kernelspec": {
   "display_name": "Python 3",
   "language": "python",
   "name": "python3"
  },
  "language_info": {
   "codemirror_mode": {
    "name": "ipython",
    "version": 3
   },
   "file_extension": ".py",
   "mimetype": "text/x-python",
   "name": "python",
   "nbconvert_exporter": "python",
   "pygments_lexer": "ipython3",
   "version": "3.6.1"
  }
 },
 "nbformat": 4,
 "nbformat_minor": 2
}

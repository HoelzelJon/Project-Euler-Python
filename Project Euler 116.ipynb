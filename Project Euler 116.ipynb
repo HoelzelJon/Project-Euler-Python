{
 "cells": [
  {
   "cell_type": "code",
   "execution_count": 57,
   "metadata": {},
   "outputs": [
    {
     "name": "stdout",
     "output_type": "stream",
     "text": [
      "20492570929\n"
     ]
    }
   ],
   "source": [
    "def getNumArrangements(length, tileSize):\n",
    "    return getArrangements(length, tileSize, {}) - 1\n",
    "\n",
    "def getArrangements(length, tileSize, dictionary):\n",
    "    if length in dictionary:\n",
    "        return dictionary[length]\n",
    "    if (length < tileSize):\n",
    "        dictionary[length] = 1\n",
    "        return 1\n",
    "    counter = 1\n",
    "    for x in range(length - tileSize + 1):\n",
    "        counter += getArrangements(length - (x + tileSize), tileSize, dictionary)\n",
    "    dictionary[length] = counter\n",
    "    return counter\n",
    "\n",
    "print(getNumArrangements(50, 3) + getNumArrangements(50, 4) + getNumArrangements(50, 2))"
   ]
  },
  {
   "cell_type": "code",
   "execution_count": null,
   "metadata": {
    "collapsed": true
   },
   "outputs": [],
   "source": []
  }
 ],
 "metadata": {
  "kernelspec": {
   "display_name": "Python 3",
   "language": "python",
   "name": "python3"
  },
  "language_info": {
   "codemirror_mode": {
    "name": "ipython",
    "version": 3
   },
   "file_extension": ".py",
   "mimetype": "text/x-python",
   "name": "python",
   "nbconvert_exporter": "python",
   "pygments_lexer": "ipython3",
   "version": "3.6.1"
  }
 },
 "nbformat": 4,
 "nbformat_minor": 2
}

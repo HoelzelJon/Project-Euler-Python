{
 "cells": [
  {
   "cell_type": "code",
   "execution_count": 19,
   "metadata": {},
   "outputs": [
    {
     "name": "stdout",
     "output_type": "stream",
     "text": [
      "91\n",
      "259\n",
      "451\n",
      "481\n",
      "703\n",
      "1729\n",
      "2821\n",
      "2981\n",
      "3367\n",
      "4141\n",
      "4187\n",
      "5461\n",
      "6533\n",
      "6541\n",
      "6601\n",
      "7471\n",
      "7777\n",
      "8149\n",
      "8401\n",
      "8911\n",
      "10001\n",
      "11111\n",
      "12403\n",
      "13981\n",
      "14701\n",
      "149253\n"
     ]
    }
   ],
   "source": [
    "import sympy.ntheory.primetest as test\n",
    "\n",
    "def tenMod(n, lastTenMod):\n",
    "    return (lastTenMod * 10) % n\n",
    "\n",
    "def A(n):\n",
    "    pow = 1\n",
    "    lastTenMod = 1\n",
    "    sum = 1\n",
    "    while (sum != 0):\n",
    "        lastTenMod= tenMod(n, lastTenMod)\n",
    "        sum += lastTenMod\n",
    "        sum %= n\n",
    "        pow += 1\n",
    "    return pow\n",
    "\n",
    "sum = 0\n",
    "count = 0\n",
    "n = 5\n",
    "\n",
    "while (count < 25):\n",
    "    if (n % 5 != 0):\n",
    "        if (not test.isprime(n)):\n",
    "            a = A(n)\n",
    "            if ((n-1) % a == 0):\n",
    "                print(n)\n",
    "                count += 1\n",
    "                sum += n\n",
    "            \n",
    "    n += 2\n",
    "    \n",
    "print(sum)"
   ]
  },
  {
   "cell_type": "code",
   "execution_count": null,
   "metadata": {
    "collapsed": true
   },
   "outputs": [],
   "source": []
  }
 ],
 "metadata": {
  "kernelspec": {
   "display_name": "Python 3",
   "language": "python",
   "name": "python3"
  },
  "language_info": {
   "codemirror_mode": {
    "name": "ipython",
    "version": 3
   },
   "file_extension": ".py",
   "mimetype": "text/x-python",
   "name": "python",
   "nbconvert_exporter": "python",
   "pygments_lexer": "ipython3",
   "version": "3.6.1"
  }
 },
 "nbformat": 4,
 "nbformat_minor": 2
}

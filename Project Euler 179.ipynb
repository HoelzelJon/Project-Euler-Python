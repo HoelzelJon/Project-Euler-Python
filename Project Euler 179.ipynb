{
 "cells": [
  {
   "cell_type": "code",
   "execution_count": 5,
   "metadata": {},
   "outputs": [
    {
     "name": "stdout",
     "output_type": "stream",
     "text": [
      "986262\n"
     ]
    }
   ],
   "source": [
    "def getPrimeFactor(n):\n",
    "    if (n % 2 == 0): return 2\n",
    "    if (n % 3 == 0): return 3\n",
    "    i = 5\n",
    "    while (i*i <= n):\n",
    "        if (n % i == 0): return i\n",
    "        if (n % (i+2) == 0): return i+2\n",
    "        i += 6\n",
    "    return n\n",
    "\n",
    "def getNumDivisors(n):\n",
    "    primes = {}\n",
    "    while (n > 1):\n",
    "        factor = getPrimeFactor(n)\n",
    "        if factor in primes:\n",
    "            primes[factor] += 1\n",
    "        else:\n",
    "            primes[factor] = 1\n",
    "        n = n // factor\n",
    "    product = 1\n",
    "    for prime in primes:\n",
    "        product *= (primes[prime] + 1)\n",
    "    return product\n",
    "\n",
    "count = 0\n",
    "nDiv = 2\n",
    "for nPlus1 in range(3, 10000001):\n",
    "    nPlus1Div = getNumDivisors(nPlus1)\n",
    "    if (nDiv == nPlus1Div): count += 1\n",
    "    nDiv = nPlus1Div\n",
    "    \n",
    "print(count)"
   ]
  },
  {
   "cell_type": "code",
   "execution_count": null,
   "metadata": {
    "collapsed": true
   },
   "outputs": [],
   "source": []
  }
 ],
 "metadata": {
  "kernelspec": {
   "display_name": "Python 3",
   "language": "python",
   "name": "python3"
  },
  "language_info": {
   "codemirror_mode": {
    "name": "ipython",
    "version": 3
   },
   "file_extension": ".py",
   "mimetype": "text/x-python",
   "name": "python",
   "nbconvert_exporter": "python",
   "pygments_lexer": "ipython3",
   "version": "3.6.1"
  }
 },
 "nbformat": 4,
 "nbformat_minor": 2
}

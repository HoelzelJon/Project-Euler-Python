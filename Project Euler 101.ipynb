{
 "cells": [
  {
   "cell_type": "code",
   "execution_count": 40,
   "metadata": {},
   "outputs": [
    {
     "name": "stdout",
     "output_type": "stream",
     "text": [
      "37076114526\n"
     ]
    }
   ],
   "source": [
    "import numpy as np\n",
    "\n",
    "x = np.array([n for n in range(1, 12)])\n",
    "sequence = np.array([1 - n + (n**2) - (n**3) + (n**4) - (n**5) + (n**6) - (n**7) + (n**8) - (n**9) + (n**10) for n in range(1, 12)])\n",
    "\n",
    "sum = 0\n",
    "for k in range(1, 11):\n",
    "    OP = np.polyfit(x[:k], sequence[:k], k-1)\n",
    "    OP = [int(round(n)) for n in OP]\n",
    "    FIT = 0\n",
    "    for pow in range(k):\n",
    "        FIT += int(OP[len(OP) - (pow+1)]) * ((k+1) ** pow)\n",
    "    sum += FIT\n",
    "\n",
    "print(sum)"
   ]
  },
  {
   "cell_type": "code",
   "execution_count": null,
   "metadata": {
    "collapsed": true
   },
   "outputs": [],
   "source": []
  }
 ],
 "metadata": {
  "kernelspec": {
   "display_name": "Python 3",
   "language": "python",
   "name": "python3"
  },
  "language_info": {
   "codemirror_mode": {
    "name": "ipython",
    "version": 3
   },
   "file_extension": ".py",
   "mimetype": "text/x-python",
   "name": "python",
   "nbconvert_exporter": "python",
   "pygments_lexer": "ipython3",
   "version": "3.6.1"
  }
 },
 "nbformat": 4,
 "nbformat_minor": 2
}

{
 "cells": [
  {
   "cell_type": "code",
   "execution_count": 11,
   "metadata": {},
   "outputs": [
    {
     "name": "stdout",
     "output_type": "stream",
     "text": [
      "71\n"
     ]
    }
   ],
   "source": [
    "import sympy.ntheory.primetest as pt\n",
    "\n",
    "def countSums(n):\n",
    "    return countWaysToSum(n, n)\n",
    "    \n",
    "def countWaysToSum(n, maxPrime):\n",
    "    if (n == 0):\n",
    "        return 1\n",
    "    if (n == 1):\n",
    "        return 0\n",
    "    count = 0\n",
    "    for p in range(2, min(maxPrime, n) + 1):\n",
    "        if (pt.isprime(p)):\n",
    "            count += countWaysToSum(n - p, p)\n",
    "    return count\n",
    "\n",
    "n = 2\n",
    "while (countSums(n) < 5000):\n",
    "    n += 1\n",
    "    \n",
    "print(n)"
   ]
  },
  {
   "cell_type": "code",
   "execution_count": null,
   "metadata": {
    "collapsed": true
   },
   "outputs": [],
   "source": []
  }
 ],
 "metadata": {
  "kernelspec": {
   "display_name": "Python 3",
   "language": "python",
   "name": "python3"
  },
  "language_info": {
   "codemirror_mode": {
    "name": "ipython",
    "version": 3
   },
   "file_extension": ".py",
   "mimetype": "text/x-python",
   "name": "python",
   "nbconvert_exporter": "python",
   "pygments_lexer": "ipython3",
   "version": "3.6.1"
  }
 },
 "nbformat": 4,
 "nbformat_minor": 2
}

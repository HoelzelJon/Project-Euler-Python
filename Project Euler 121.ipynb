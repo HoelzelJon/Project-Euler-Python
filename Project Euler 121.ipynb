{
 "cells": [
  {
   "cell_type": "code",
   "execution_count": 1,
   "metadata": {},
   "outputs": [
    {
     "name": "stdout",
     "output_type": "stream",
     "text": [
      "0.00044063946502124416\n",
      "2269.4290443362534\n"
     ]
    }
   ],
   "source": [
    "pWin = 0.0\n",
    "\n",
    "for x in range(2**15):\n",
    "    numBlue = 0\n",
    "    probability = 1.0\n",
    "    for turn in range(1, 16):\n",
    "        pBlue = 1.0 / (turn + 1.0)\n",
    "        pulledBlue = x & (2**(turn-1))\n",
    "        if pulledBlue:\n",
    "            numBlue += 1\n",
    "            probability *= pBlue\n",
    "        else:\n",
    "            probability *= 1 - pBlue\n",
    "    if (numBlue > 7):\n",
    "        pWin += probability\n",
    "        \n",
    "print(pWin)\n",
    "print(1.0 / pWin)"
   ]
  },
  {
   "cell_type": "code",
   "execution_count": null,
   "metadata": {
    "collapsed": true
   },
   "outputs": [],
   "source": []
  }
 ],
 "metadata": {
  "kernelspec": {
   "display_name": "Python 3",
   "language": "python",
   "name": "python3"
  },
  "language_info": {
   "codemirror_mode": {
    "name": "ipython",
    "version": 3
   },
   "file_extension": ".py",
   "mimetype": "text/x-python",
   "name": "python",
   "nbconvert_exporter": "python",
   "pygments_lexer": "ipython3",
   "version": "3.6.1"
  }
 },
 "nbformat": 4,
 "nbformat_minor": 2
}
